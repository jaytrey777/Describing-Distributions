{
 "cells": [
  {
   "cell_type": "markdown",
   "id": "13048c2a",
   "metadata": {},
   "source": [
    "In this assignment, you will be analyzing & visualizing several features in the [Medical Dataset](https://docs.google.com/spreadsheets/d/1APV3pXiAszS_0mSgkiEt9IUNH-QmyX7KwxSAwuADl6Y/gviz/tq?tqx=out:csv&sheet=medical_data).\n",
    "\n",
    "- The features to analyze: \n",
    " - VitD_levels\n",
    " - Doc_visits\n",
    " - TotalCharge"
   ]
  },
  {
   "cell_type": "markdown",
   "id": "b61bc4d7",
   "metadata": {},
   "source": [
    "- For each feature listed:\n",
    "\n",
    " - Plot a histogram with a kde (kernel density estimate)\n",
    " - Add a line for the mean (red)\n",
    " - Add a line for the median (green)\n",
    " - Add a line for for +1 std from the mean (black)\n",
    " - Add a line for the - 1 std from the mean (black)\n",
    " - Highlight the range between +1 and =1 std (yellow)"
   ]
  },
  {
   "cell_type": "markdown",
   "id": "0c4b3c3a",
   "metadata": {},
   "source": [
    "- Answer the following questions:\n",
    " - Is it Discrete or Continuous?\n",
    " - Does it have a skew? If so, which direction (+/-)\n",
    " - What type of kurtosis does it display? (Mesokurtic, Leptokurtic, Platykurtic)"
   ]
  },
  {
   "cell_type": "markdown",
   "id": "48a0e7db",
   "metadata": {},
   "source": [
    "# Imports"
   ]
  },
  {
   "cell_type": "code",
   "execution_count": 1,
   "id": "a07b526f",
   "metadata": {},
   "outputs": [],
   "source": [
    "import pandas as pd\n",
    "import numpy as np\n",
    "import matplotlib.pyplot as plt\n",
    "import seaborn as sns\n",
    "from sklearn.preprocessing import StandardScaler\n",
    "from scipy import stats"
   ]
  },
  {
   "cell_type": "markdown",
   "id": "67186a11",
   "metadata": {},
   "source": [
    "# Data Loading"
   ]
  },
  {
   "cell_type": "code",
   "execution_count": null,
   "id": "b9b661d9",
   "metadata": {},
   "outputs": [],
   "source": [
    "df = pd.read_csv(filename)"
   ]
  }
 ],
 "metadata": {
  "kernelspec": {
   "display_name": "Python (dojo-env)",
   "language": "python",
   "name": "dojo-env"
  },
  "language_info": {
   "codemirror_mode": {
    "name": "ipython",
    "version": 3
   },
   "file_extension": ".py",
   "mimetype": "text/x-python",
   "name": "python",
   "nbconvert_exporter": "python",
   "pygments_lexer": "ipython3",
   "version": "3.9.15"
  },
  "toc": {
   "base_numbering": 1,
   "nav_menu": {},
   "number_sections": false,
   "sideBar": true,
   "skip_h1_title": false,
   "title_cell": "Table of Contents",
   "title_sidebar": "Contents",
   "toc_cell": false,
   "toc_position": {},
   "toc_section_display": true,
   "toc_window_display": false
  }
 },
 "nbformat": 4,
 "nbformat_minor": 5
}
